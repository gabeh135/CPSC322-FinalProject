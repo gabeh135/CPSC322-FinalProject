{
 "cells": [
  {
   "cell_type": "code",
   "execution_count": 12,
   "metadata": {},
   "outputs": [],
   "source": [
    "import importlib\n",
    "\n",
    "import mysklearn.myutils\n",
    "importlib.reload(mysklearn.myutils)\n",
    "import mysklearn.myutils as myutils\n",
    "\n",
    "import plot_utils\n",
    "importlib.reload(plot_utils)\n",
    "import plot_utils as plot_utils\n",
    "\n",
    "import mysklearn.mypytable\n",
    "importlib.reload(mysklearn.mypytable)\n",
    "from mysklearn.mypytable import MyPyTable \n",
    "\n",
    "import mysklearn.myclassifiers\n",
    "importlib.reload(mysklearn.myclassifiers)\n",
    "from mysklearn.myclassifiers import MyKNeighborsClassifier, MyDummyClassifier, MyNaiveBayesClassifier, MyDecisionTreeClassifier, MyRandomForestClassifier\n",
    "\n",
    "import mysklearn.myevaluation\n",
    "importlib.reload(mysklearn.myevaluation)\n",
    "import mysklearn.myevaluation as myevaluation"
   ]
  },
  {
   "cell_type": "code",
   "execution_count": 2,
   "metadata": {},
   "outputs": [],
   "source": [
    "ski_dataset = MyPyTable().load_from_file(\"./input_data/ski-resorts.csv\")\n",
    "\n",
    "# exploring different attribute combinations\n",
    "ski_X = ski_dataset.get_columns([\"elevation_top_m\", \"number_of_slopes\", \"annual_snowfall_cm\"])\n",
    "ski_y = ski_dataset.get_column(\"rating\")\n",
    "\n",
    "matrix_headers = [\"rating\", \"very high\", \"high\", \"above average\", \"average\", \"below average\", \"low\", \"very low\", \"Total\", \"Recognition (%)\"]\n",
    "\n",
    "discretizer = myutils.discretize_ranking"
   ]
  },
  {
   "cell_type": "markdown",
   "metadata": {},
   "source": [
    "## kNN classification of ski dataset"
   ]
  },
  {
   "cell_type": "code",
   "execution_count": null,
   "metadata": {},
   "outputs": [
    {
     "name": "stdout",
     "output_type": "stream",
     "text": [
      "['average', 'high', 'average', 'above average', 'above average', 'low', 'very low', 'above average', 'high', 'average', 'very low', 'average', 'low', 'very high', 'very high', 'average', 'above average', 'average', 'average', 'above average']\n",
      "['average', 'average', 'below average', 'below average', 'average', 'low', 'low', 'average', 'high', 'low', 'low', 'below average', 'very low', 'above average', 'above average', 'low', 'average', 'average', 'below average', 'low']\n",
      "Accuracy: 0.30785627283800243, Error Rate: 0.6921437271619976\n",
      "\n",
      "rating           very high    high    above average    average    below average    low    very low    Total    Recognition (%)\n",
      "-------------  -----------  ------  ---------------  ---------  ---------------  -----  ----------  -------  -----------------\n",
      "very high               14      60               70         17                4      0           0      165                  8\n",
      "high                    11      57              141         91               23      4           1      328                 17\n",
      "above average            6      21              134        318              135     33          11      658                 20\n",
      "average                  3       4               52        390              316    164          57      986                 39\n",
      "below average            0       2               10         95              244    183         122      656                 37\n",
      "low                      0       0                1         17               79    105         121      323                 32\n",
      "very low                 0       0                0          4               35     62          67      168                 39\n"
     ]
    }
   ],
   "source": [
    "# TODO: modify categorical method in kNN to be a given list\n",
    "knn_clf = MyKNeighborsClassifier()\n",
    "\n",
    "knn_actual, knn_pred, knn_accuracy, knn_error = myevaluation.cross_val_predict\\\n",
    "    (ski_X, ski_y, knn_clf, discretizer=discretizer, n_splits=10, shuffle=True, stratify=True)\n",
    "\n",
    "myutils.randomize_in_place(knn_actual, knn_pred)\n",
    "print(knn_actual[:20])\n",
    "print(knn_pred[:20])\n",
    "\n",
    "print(f\"Accuracy: {knn_accuracy}, Error Rate: {knn_error}\")\n",
    "print()\n",
    "\n",
    "matrix = myevaluation.confusion_matrix(knn_actual, knn_pred, matrix_headers[1:8])\n",
    "print(myevaluation.tabulate_confusion_matrix(matrix, headers=matrix_headers))"
   ]
  },
  {
   "cell_type": "code",
   "execution_count": null,
   "metadata": {},
   "outputs": [
    {
     "name": "stdout",
     "output_type": "stream",
     "text": [
      "Accuracy: 0.39452054794520547, Error Rate: 0.6054794520547946\n",
      "\n"
     ]
    }
   ],
   "source": [
    "# TODO: ask Professor Sprint where part 4 of random forest should be implemented - in predict?\n",
    "# TODO: ask Professor Sprint how we should handle our categorical decision tree issue - discretizer for X attributes?\n",
    "forest_clf = MyRandomForestClassifier()\n",
    "\n",
    "# discretize the output\n",
    "y_disc = [discretizer(y) for y in ski_y]\n",
    "\n",
    "# using N=5, M=3, F=2 as a \"control\"\n",
    "X_test, y_test = forest_clf.fit(ski_X, y_disc, 5, 3, 2)\n",
    "forest_pred = forest_clf.predict(X_test)\n",
    "\n",
    "forest_accuracy = myevaluation.accuracy_score(y_test, forest_pred)\n",
    "forest_error = 1 - forest_accuracy\n",
    "\n",
    "forest_actual = y_test\n",
    "\n",
    "print(f\"Accuracy: {forest_accuracy}, Error Rate: {forest_error}\")\n",
    "print()\n",
    "\n",
    "# matrix = myevaluation.confusion_matrix(forest_actual, forest_pred, matrix_headers[1:8])\n",
    "# print(myevaluation.tabulate_confusion_matrix(matrix, headers=matrix_headers))"
   ]
  },
  {
   "cell_type": "markdown",
   "metadata": {},
   "source": [
    "## Issues faced\n",
    "In regards to random forest, we are facing two primary issues. First, predictions sometimes are not being made. This is a bug that will likely be ironed out as we solve the next issue.\n",
    "\n",
    "\n",
    "Another issue is that continuous attributes are being treated as categorical, which leads to a decision trees with hundreds if not thousands of branches.\n"
   ]
  },
  {
   "cell_type": "code",
   "execution_count": 39,
   "metadata": {},
   "outputs": [
    {
     "name": "stdout",
     "output_type": "stream",
     "text": [
      "actual ['very high', 'very high', 'very high', 'very high', 'very high', 'very high', 'very high', 'very high', 'very high', 'very high']\n",
      "predicted ['', '', '', '', 'very high', '', '', 'high', 'average', 'high']\n",
      "\n"
     ]
    }
   ],
   "source": [
    "# This version tends very much towards average, but we have already addressed this by changing the distributions of the discretizer.\n",
    "print(\"actual\",y_test[:10])\n",
    "print(\"predicted\",forest_pred[:10])\n",
    "print()\n",
    "\n",
    "tree = forest_clf.forest[0]\n",
    "# tree.print_decision_rules()"
   ]
  },
  {
   "cell_type": "markdown",
   "metadata": {},
   "source": [
    "Truncated output of tree.print_decision_rules()\n",
    "\n",
    "IF att1 == 0.0 THEN class = high  \n",
    "IF att1 == 1.0 THEN class = below average  \n",
    "IF att1 == 2.0 THEN class = average  \n",
    "IF att1 == 3.0 THEN class = average  \n",
    "IF att1 == 4.0 THEN class = average  \n",
    "IF att1 == 5.0 THEN class = average  \n",
    "IF att1 == 6.0 THEN class = average  \n",
    "IF att1 == 7.0 THEN class = above average  \n",
    "IF att1 == 8.0 THEN class = average  \n",
    "IF att1 == 9.0 THEN class = above average  \n",
    "IF att1 == 10.0 THEN class = average"
   ]
  },
  {
   "cell_type": "markdown",
   "metadata": {},
   "source": [
    "## Data Visualizations"
   ]
  },
  {
   "cell_type": "code",
   "execution_count": 30,
   "metadata": {},
   "outputs": [
    {
     "data": {
      "image/png": "[encoded data removed]",
      "text/plain": [
       "<Figure size 640x480 with 1 Axes>"
      ]
     },
     "metadata": {},
     "output_type": "display_data"
    }
   ],
   "source": [
    "import matplotlib.pyplot as plt\n",
    "\n",
    "# will make own method\n",
    "y_disc = [discretizer(y) for y in ski_y]\n",
    "values, counts = myutils.get_frequencies(y_disc)\n",
    "\n",
    "order = [5, 3, 0, 1, 2, 4, 6]\n",
    "ordered_values = [values[i] for i in order]\n",
    "ordered_counts = [counts[i] for i in order]\n",
    "\n",
    "plt.figure()\n",
    "plt.bar(ordered_values, ordered_counts)\n",
    "plt.xlabel(\"ELO Rating\")\n",
    "plt.ylabel(\"Count\")\n",
    "plt.title(f\"Distribution of Table Classifications\")\n",
    "plt.xticks(rotation=45, ha=\"right\")\n",
    "plt.show()"
   ]
  }
 ],
 "metadata": {
  "kernelspec": {
   "display_name": "base",
   "language": "python",
   "name": "python3"
  },
  "language_info": {
   "codemirror_mode": {
    "name": "ipython",
    "version": 3
   },
   "file_extension": ".py",
   "mimetype": "text/x-python",
   "name": "python",
   "nbconvert_exporter": "python",
   "pygments_lexer": "ipython3",
   "version": "3.12.4"
  }
 },
 "nbformat": 4,
 "nbformat_minor": 2
}
