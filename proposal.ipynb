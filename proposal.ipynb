{
 "cells": [
  {
   "cell_type": "markdown",
   "metadata": {},
   "source": [
    "### Gabe Hoing and Sean Cowan  \n",
    "### Predicting Ski Resort Rankings"
   ]
  },
  {
   "cell_type": "markdown",
   "metadata": {},
   "source": [
    "## Dataset\n",
    "https://www.kaggle.com/datasets/fhellander/global-ski-resort-rankings-dataset1.\n",
    "\n",
    "The dataset - which we obtained from Kaggle - contains information about global ski resort rankings. \n",
    "\n",
    "Examples of attributes include location, elevation, and average run length. We will use these to predict the ranking attribute."
   ]
  },
  {
   "cell_type": "markdown",
   "metadata": {},
   "source": [
    "## Implementation\n",
    "One challenge anticipated is the size of the dataset, being over 3000 rows. Another challenge with the dataset is the proportion of data that is continuous.\n",
    "\n",
    "While there are a large amount of attributes, it will not be too difficult to select the most relevant features. Much of it is information that while important, is not relevant for our task. Examples include the resort's url and alternate ranking."
   ]
  },
  {
   "cell_type": "markdown",
   "metadata": {},
   "source": [
    "## Impact\n",
    "These results are useful in determining what factors are most important in determining the success of a ski resort, and whether a resort is likely to succeed or not.\n",
    "\n",
    "Stakeholders involved are current owners looking to improve their resort, potential owners deciding where to build a resort, and skiers who wish to know where they should ski."
   ]
  }
 ],
 "metadata": {
  "language_info": {
   "name": "python"
  }
 },
 "nbformat": 4,
 "nbformat_minor": 2
}
